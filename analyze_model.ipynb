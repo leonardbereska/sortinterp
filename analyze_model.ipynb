{
 "cells": [
  {
   "cell_type": "code",
   "execution_count": 3,
   "metadata": {},
   "outputs": [
    {
     "data": {
      "text/plain": [
       "<All keys matched successfully>"
      ]
     },
     "execution_count": 3,
     "metadata": {},
     "output_type": "execute_result"
    }
   ],
   "source": [
    "# load model \n",
    "import pickle\n",
    "import torch as tc\n",
    "from transformer_lens import HookedTransformer\n",
    "\n",
    "timestamp = '20240417163650'\n",
    "with open(f'saved_models/{timestamp}.cfg', 'rb') as f:\n",
    "    cfg = pickle.load(f)\n",
    "# load model\n",
    "model = HookedTransformer(cfg)\n",
    "model.load_state_dict(tc.load(f'saved_models/{timestamp}.pt'))"
   ]
  },
  {
   "cell_type": "code",
   "execution_count": 4,
   "metadata": {},
   "outputs": [
    {
     "data": {
      "text/plain": [
       "HookedTransformerConfig:\n",
       "{'act_fn': 'relu',\n",
       " 'attention_dir': 'bidirectional',\n",
       " 'attn_only': False,\n",
       " 'attn_types': None,\n",
       " 'checkpoint_index': None,\n",
       " 'checkpoint_label_type': None,\n",
       " 'checkpoint_value': None,\n",
       " 'd_head': 9,\n",
       " 'd_mlp': 35,\n",
       " 'd_model': 34,\n",
       " 'd_vocab': 7,\n",
       " 'd_vocab_out': 5,\n",
       " 'default_prepend_bos': True,\n",
       " 'device': 'cpu',\n",
       " 'dtype': torch.float32,\n",
       " 'eps': 1e-05,\n",
       " 'final_rms': False,\n",
       " 'from_checkpoint': False,\n",
       " 'gated_mlp': False,\n",
       " 'init_mode': 'gpt2',\n",
       " 'init_weights': True,\n",
       " 'initializer_range': 0.13719886811400708,\n",
       " 'model_name': 'custom',\n",
       " 'n_ctx': 8,\n",
       " 'n_devices': 1,\n",
       " 'n_heads': 1,\n",
       " 'n_key_value_heads': None,\n",
       " 'n_layers': 3,\n",
       " 'n_params': 10812,\n",
       " 'normalization_type': None,\n",
       " 'original_architecture': None,\n",
       " 'parallel_attn_mlp': False,\n",
       " 'positional_embedding_type': 'standard',\n",
       " 'post_embedding_ln': False,\n",
       " 'rotary_adjacent_pairs': False,\n",
       " 'rotary_base': 10000,\n",
       " 'rotary_dim': None,\n",
       " 'scale_attn_by_inverse_layer_idx': False,\n",
       " 'seed': None,\n",
       " 'tokenizer_name': None,\n",
       " 'tokenizer_prepends_bos': None,\n",
       " 'trust_remote_code': False,\n",
       " 'use_attn_in': False,\n",
       " 'use_attn_result': False,\n",
       " 'use_attn_scale': True,\n",
       " 'use_hook_mlp_in': False,\n",
       " 'use_hook_tokens': False,\n",
       " 'use_local_attn': False,\n",
       " 'use_split_qkv_input': False,\n",
       " 'window_size': None}"
      ]
     },
     "execution_count": 4,
     "metadata": {},
     "output_type": "execute_result"
    }
   ],
   "source": [
    "cfg"
   ]
  },
  {
   "cell_type": "code",
   "execution_count": 14,
   "metadata": {},
   "outputs": [
    {
     "name": "stdout",
     "output_type": "stream",
     "text": [
      "Generated 78125 sequences of length 7 with vocabulary size 5\n"
     ]
    }
   ],
   "source": [
    "import itertools\n",
    "vocab_size = cfg.d_vocab_out\n",
    "input_size = cfg.d_vocab\n",
    "def get_all_sequences(max_seq_len, vocab_size):\n",
    "    # Generate all possible sequences of length n with vocabulary size m\n",
    "    sequences = itertools.product(range(vocab_size), repeat=max_seq_len)\n",
    "    sequences = [tc.tensor(seq) for seq in sequences]\n",
    "    return sequences\n",
    "sequences = get_all_sequences(input_size, vocab_size)\n",
    "print(f'Generated {len(sequences)} sequences of length {input_size} with vocabulary size {vocab_size}')"
   ]
  },
  {
   "cell_type": "code",
   "execution_count": 15,
   "metadata": {},
   "outputs": [
    {
     "name": "stdout",
     "output_type": "stream",
     "text": [
      "torch.Size([78125, 7])\n",
      "2734375\n"
     ]
    }
   ],
   "source": [
    "# sequences is a list, but we need a tensor\n",
    "sequences = tc.stack(sequences)\n",
    "print(sequences.shape)\n",
    "\n",
    "original_logits, cache = model.run_with_cache(sequences)\n",
    "print(original_logits.numel())"
   ]
  },
  {
   "cell_type": "code",
   "execution_count": 16,
   "metadata": {},
   "outputs": [
    {
     "name": "stdout",
     "output_type": "stream",
     "text": [
      "hook_embed torch.Size([78125, 7, 34])\n",
      "hook_pos_embed torch.Size([78125, 7, 34])\n",
      "blocks.0.hook_resid_pre torch.Size([78125, 7, 34])\n",
      "blocks.0.attn.hook_q torch.Size([78125, 7, 1, 9])\n",
      "blocks.0.attn.hook_k torch.Size([78125, 7, 1, 9])\n",
      "blocks.0.attn.hook_v torch.Size([78125, 7, 1, 9])\n",
      "blocks.0.attn.hook_attn_scores torch.Size([78125, 1, 7, 7])\n",
      "blocks.0.attn.hook_pattern torch.Size([78125, 1, 7, 7])\n",
      "blocks.0.attn.hook_z torch.Size([78125, 7, 1, 9])\n",
      "blocks.0.hook_attn_out torch.Size([78125, 7, 34])\n",
      "blocks.0.hook_resid_mid torch.Size([78125, 7, 34])\n",
      "blocks.0.mlp.hook_pre torch.Size([78125, 7, 35])\n",
      "blocks.0.mlp.hook_post torch.Size([78125, 7, 35])\n",
      "blocks.0.hook_mlp_out torch.Size([78125, 7, 34])\n",
      "blocks.0.hook_resid_post torch.Size([78125, 7, 34])\n",
      "blocks.1.hook_resid_pre torch.Size([78125, 7, 34])\n",
      "blocks.1.attn.hook_q torch.Size([78125, 7, 1, 9])\n",
      "blocks.1.attn.hook_k torch.Size([78125, 7, 1, 9])\n",
      "blocks.1.attn.hook_v torch.Size([78125, 7, 1, 9])\n",
      "blocks.1.attn.hook_attn_scores torch.Size([78125, 1, 7, 7])\n",
      "blocks.1.attn.hook_pattern torch.Size([78125, 1, 7, 7])\n",
      "blocks.1.attn.hook_z torch.Size([78125, 7, 1, 9])\n",
      "blocks.1.hook_attn_out torch.Size([78125, 7, 34])\n",
      "blocks.1.hook_resid_mid torch.Size([78125, 7, 34])\n",
      "blocks.1.mlp.hook_pre torch.Size([78125, 7, 35])\n",
      "blocks.1.mlp.hook_post torch.Size([78125, 7, 35])\n",
      "blocks.1.hook_mlp_out torch.Size([78125, 7, 34])\n",
      "blocks.1.hook_resid_post torch.Size([78125, 7, 34])\n",
      "blocks.2.hook_resid_pre torch.Size([78125, 7, 34])\n",
      "blocks.2.attn.hook_q torch.Size([78125, 7, 1, 9])\n",
      "blocks.2.attn.hook_k torch.Size([78125, 7, 1, 9])\n",
      "blocks.2.attn.hook_v torch.Size([78125, 7, 1, 9])\n",
      "blocks.2.attn.hook_attn_scores torch.Size([78125, 1, 7, 7])\n",
      "blocks.2.attn.hook_pattern torch.Size([78125, 1, 7, 7])\n",
      "blocks.2.attn.hook_z torch.Size([78125, 7, 1, 9])\n",
      "blocks.2.hook_attn_out torch.Size([78125, 7, 34])\n",
      "blocks.2.hook_resid_mid torch.Size([78125, 7, 34])\n",
      "blocks.2.mlp.hook_pre torch.Size([78125, 7, 35])\n",
      "blocks.2.mlp.hook_post torch.Size([78125, 7, 35])\n",
      "blocks.2.hook_mlp_out torch.Size([78125, 7, 34])\n",
      "blocks.2.hook_resid_post torch.Size([78125, 7, 34])\n"
     ]
    }
   ],
   "source": [
    "for param_name, param in cache.items():\n",
    "    print(param_name, param.shape)\n"
   ]
  },
  {
   "cell_type": "code",
   "execution_count": 22,
   "metadata": {},
   "outputs": [],
   "source": [
    "import plotly.express as px\n",
    "import transformer_lens.utils as tl_utils\n",
    "\n",
    "\n",
    "def imshow(tensor, renderer=None, xaxis=\"\", yaxis=\"\", **kwargs):\n",
    "    px.imshow(tl_utils.to_numpy(tensor), color_continuous_midpoint=0.0, color_continuous_scale=\"RdBu\", labels={\"x\":xaxis, \"y\":yaxis}, **kwargs).show(renderer)"
   ]
  },
  {
   "cell_type": "code",
   "execution_count": 23,
   "metadata": {},
   "outputs": [],
   "source": [
    "pattern_a = cache[\"pattern\", 0, \"attn\"][:, :, -1, 0]\n",
    "pattern_b = cache[\"pattern\", 0, \"attn\"][:, :, -1, 1]\n",
    "neuron_acts = cache[\"post\", 0, \"mlp\"][:, -1, :]\n",
    "neuron_pre_acts = cache[\"pre\", 0, \"mlp\"][:, -1, :]\n",
    "\n"
   ]
  },
  {
   "cell_type": "code",
   "execution_count": 25,
   "metadata": {},
   "outputs": [
    {
     "data": {
      "text/plain": [
       "(torch.Size([78125, 1]),\n",
       " torch.Size([78125, 1]),\n",
       " torch.Size([78125, 35]),\n",
       " torch.Size([78125, 35]))"
      ]
     },
     "execution_count": 25,
     "metadata": {},
     "output_type": "execute_result"
    }
   ],
   "source": [
    "pattern_a.shape, pattern_b.shape, neuron_acts.shape, neuron_pre_acts.shape\n"
   ]
  },
  {
   "cell_type": "code",
   "execution_count": 33,
   "metadata": {},
   "outputs": [],
   "source": [
    "p = cache[\"pattern\", 0].mean(dim=0)[0]"
   ]
  },
  {
   "cell_type": "code",
   "execution_count": 34,
   "metadata": {},
   "outputs": [
    {
     "data": {
      "image/png": "[encoded data removed]",
      "text/plain": [
       "<Figure size 640x480 with 2 Axes>"
      ]
     },
     "metadata": {},
     "output_type": "display_data"
    }
   ],
   "source": [
    "# imshow()\n",
    "from matplotlib import pyplot as plt\n",
    "import numpy as np\n",
    "\n",
    "def imshow(tensor, xaxis=\"\", yaxis=\"\", **kwargs):\n",
    "    plt.imshow(tensor.detach().numpy(), cmap='RdBu', **kwargs)\n",
    "    plt.xlabel(xaxis)\n",
    "    plt.ylabel(yaxis)\n",
    "    plt.colorbar()\n",
    "    plt.show()\n",
    "\n",
    "imshow(p, xaxis=\"neurons\", yaxis=\"input\")"
   ]
  },
  {
   "cell_type": "code",
   "execution_count": null,
   "metadata": {},
   "outputs": [],
   "source": []
  }
 ],
 "metadata": {
  "kernelspec": {
   "display_name": "sortinterp",
   "language": "python",
   "name": "python3"
  },
  "language_info": {
   "codemirror_mode": {
    "name": "ipython",
    "version": 3
   },
   "file_extension": ".py",
   "mimetype": "text/x-python",
   "name": "python",
   "nbconvert_exporter": "python",
   "pygments_lexer": "ipython3",
   "version": "3.12.2"
  }
 },
 "nbformat": 4,
 "nbformat_minor": 2
}
