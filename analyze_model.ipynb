{
 "cells": [
  {
   "cell_type": "code",
   "execution_count": null,
   "metadata": {},
   "outputs": [
    {
     "data": {
      "text/plain": [
       "<All keys matched successfully>"
      ]
     },
     "execution_count": 96,
     "metadata": {},
     "output_type": "execute_result"
    }
   ],
   "source": [
    "# load model \n",
    "import pickle\n",
    "import torch as tc\n",
    "from transformer_lens import HookedTransformer\n",
    "\n",
    "timestamp = '20240429143845'\n",
    "with open(f'saved_models/{timestamp}.cfg', 'rb') as f:\n",
    "    cfg = pickle.load(f)\n",
    "# load model\n",
    "model = HookedTransformer(cfg)\n",
    "model.load_state_dict(tc.load(f'saved_models/{timestamp}.pt'))"
   ]
  },
  {
   "cell_type": "code",
   "execution_count": null,
   "metadata": {},
   "outputs": [
    {
     "data": {
      "text/plain": [
       "HookedTransformerConfig:\n",
       "{'act_fn': 'relu',\n",
       " 'attention_dir': 'bidirectional',\n",
       " 'attn_only': False,\n",
       " 'attn_types': None,\n",
       " 'checkpoint_index': None,\n",
       " 'checkpoint_label_type': None,\n",
       " 'checkpoint_value': None,\n",
       " 'd_head': 9,\n",
       " 'd_mlp': 35,\n",
       " 'd_model': 34,\n",
       " 'd_vocab': 7,\n",
       " 'd_vocab_out': 5,\n",
       " 'default_prepend_bos': True,\n",
       " 'device': 'cpu',\n",
       " 'dtype': torch.float32,\n",
       " 'eps': 1e-05,\n",
       " 'final_rms': False,\n",
       " 'from_checkpoint': False,\n",
       " 'gated_mlp': False,\n",
       " 'init_mode': 'gpt2',\n",
       " 'init_weights': True,\n",
       " 'initializer_range': 0.13719886811400708,\n",
       " 'model_name': 'custom',\n",
       " 'n_ctx': 8,\n",
       " 'n_devices': 1,\n",
       " 'n_heads': 1,\n",
       " 'n_key_value_heads': None,\n",
       " 'n_layers': 3,\n",
       " 'n_params': 10812,\n",
       " 'normalization_type': None,\n",
       " 'original_architecture': None,\n",
       " 'parallel_attn_mlp': False,\n",
       " 'positional_embedding_type': 'standard',\n",
       " 'post_embedding_ln': False,\n",
       " 'rotary_adjacent_pairs': False,\n",
       " 'rotary_base': 10000,\n",
       " 'rotary_dim': None,\n",
       " 'scale_attn_by_inverse_layer_idx': False,\n",
       " 'seed': None,\n",
       " 'tokenizer_name': None,\n",
       " 'tokenizer_prepends_bos': None,\n",
       " 'trust_remote_code': False,\n",
       " 'use_attn_in': False,\n",
       " 'use_attn_result': False,\n",
       " 'use_attn_scale': True,\n",
       " 'use_hook_mlp_in': False,\n",
       " 'use_hook_tokens': False,\n",
       " 'use_local_attn': False,\n",
       " 'use_split_qkv_input': False,\n",
       " 'window_size': None}"
      ]
     },
     "execution_count": 97,
     "metadata": {},
     "output_type": "execute_result"
    }
   ],
   "source": [
    "cfg"
   ]
  },
  {
   "cell_type": "code",
   "execution_count": null,
   "metadata": {},
   "outputs": [
    {
     "name": "stdout",
     "output_type": "stream",
     "text": [
      "Generated 78125 sequences of length 7 with vocabulary size 5\n"
     ]
    }
   ],
   "source": [
    "import itertools\n",
    "vocab_size = cfg.d_vocab_out\n",
    "input_size = cfg.d_vocab\n",
    "def get_all_sequences(max_seq_len, vocab_size):\n",
    "    # Generate all possible sequences of length n with vocabulary size m\n",
    "    sequences = itertools.product(range(vocab_size), repeat=max_seq_len)\n",
    "    sequences = [tc.tensor(seq) for seq in sequences]\n",
    "    return sequences\n",
    "sequences = get_all_sequences(input_size, vocab_size)\n",
    "print(f'Generated {len(sequences)} sequences of length {input_size} with vocabulary size {vocab_size}')"
   ]
  },
  {
   "cell_type": "code",
   "execution_count": null,
   "metadata": {},
   "outputs": [
    {
     "name": "stdout",
     "output_type": "stream",
     "text": [
      "torch.Size([78125, 7])\n",
      "2734375\n"
     ]
    }
   ],
   "source": [
    "# sequences is a list, but we need a tensor\n",
    "sequences = tc.stack(sequences)\n",
    "print(sequences.shape)\n",
    "\n",
    "original_logits, cache = model.run_with_cache(sequences)\n",
    "print(original_logits.numel())"
   ]
  },
  {
   "cell_type": "code",
   "execution_count": null,
   "metadata": {},
   "outputs": [],
   "source": [
    "import plotly.express as px\n",
    "import transformer_lens.utils as tl_utils\n",
    "\n",
    "\n",
    "# def imshow(tensor, renderer=None, xaxis=\"\", yaxis=\"\", **kwargs):\n",
    "#     px.imshow(tl_utils.to_numpy(tensor), color_continuous_midpoint=0.0, color_continuous_scale=\"RdBu\", labels={\"x\":xaxis, \"y\":yaxis}, **kwargs).show(renderer)\n",
    "\n",
    "# imshow()\n",
    "from matplotlib import pyplot as plt\n",
    "import numpy as np\n",
    "\n",
    "def imshow(tensor, xaxis=\"\", yaxis=\"\", **kwargs):\n",
    "    plt.imshow(tensor.detach().numpy(), cmap='RdBu', **kwargs)\n",
    "    plt.xlabel(xaxis)\n",
    "    plt.ylabel(yaxis)\n",
    "    plt.show()"
   ]
  },
  {
   "cell_type": "code",
   "execution_count": null,
   "metadata": {},
   "outputs": [
    {
     "name": "stdout",
     "output_type": "stream",
     "text": [
      "hook_embed torch.Size([78125, 7, 34])\n",
      "hook_pos_embed torch.Size([78125, 7, 34])\n",
      "blocks.0.hook_resid_pre torch.Size([78125, 7, 34])\n",
      "blocks.0.attn.hook_q torch.Size([78125, 7, 1, 9])\n",
      "blocks.0.attn.hook_k torch.Size([78125, 7, 1, 9])\n",
      "blocks.0.attn.hook_v torch.Size([78125, 7, 1, 9])\n",
      "blocks.0.attn.hook_attn_scores torch.Size([78125, 1, 7, 7])\n",
      "blocks.0.attn.hook_pattern torch.Size([78125, 1, 7, 7])\n",
      "blocks.0.attn.hook_z torch.Size([78125, 7, 1, 9])\n",
      "blocks.0.hook_attn_out torch.Size([78125, 7, 34])\n",
      "blocks.0.hook_resid_mid torch.Size([78125, 7, 34])\n",
      "blocks.0.mlp.hook_pre torch.Size([78125, 7, 35])\n",
      "blocks.0.mlp.hook_post torch.Size([78125, 7, 35])\n",
      "blocks.0.hook_mlp_out torch.Size([78125, 7, 34])\n",
      "blocks.0.hook_resid_post torch.Size([78125, 7, 34])\n",
      "blocks.1.hook_resid_pre torch.Size([78125, 7, 34])\n",
      "blocks.1.attn.hook_q torch.Size([78125, 7, 1, 9])\n",
      "blocks.1.attn.hook_k torch.Size([78125, 7, 1, 9])\n",
      "blocks.1.attn.hook_v torch.Size([78125, 7, 1, 9])\n",
      "blocks.1.attn.hook_attn_scores torch.Size([78125, 1, 7, 7])\n",
      "blocks.1.attn.hook_pattern torch.Size([78125, 1, 7, 7])\n",
      "blocks.1.attn.hook_z torch.Size([78125, 7, 1, 9])\n",
      "blocks.1.hook_attn_out torch.Size([78125, 7, 34])\n",
      "blocks.1.hook_resid_mid torch.Size([78125, 7, 34])\n",
      "blocks.1.mlp.hook_pre torch.Size([78125, 7, 35])\n",
      "blocks.1.mlp.hook_post torch.Size([78125, 7, 35])\n",
      "blocks.1.hook_mlp_out torch.Size([78125, 7, 34])\n",
      "blocks.1.hook_resid_post torch.Size([78125, 7, 34])\n",
      "blocks.2.hook_resid_pre torch.Size([78125, 7, 34])\n",
      "blocks.2.attn.hook_q torch.Size([78125, 7, 1, 9])\n",
      "blocks.2.attn.hook_k torch.Size([78125, 7, 1, 9])\n",
      "blocks.2.attn.hook_v torch.Size([78125, 7, 1, 9])\n",
      "blocks.2.attn.hook_attn_scores torch.Size([78125, 1, 7, 7])\n",
      "blocks.2.attn.hook_pattern torch.Size([78125, 1, 7, 7])\n",
      "blocks.2.attn.hook_z torch.Size([78125, 7, 1, 9])\n",
      "blocks.2.hook_attn_out torch.Size([78125, 7, 34])\n",
      "blocks.2.hook_resid_mid torch.Size([78125, 7, 34])\n",
      "blocks.2.mlp.hook_pre torch.Size([78125, 7, 35])\n",
      "blocks.2.mlp.hook_post torch.Size([78125, 7, 35])\n",
      "blocks.2.hook_mlp_out torch.Size([78125, 7, 34])\n",
      "blocks.2.hook_resid_post torch.Size([78125, 7, 34])\n"
     ]
    }
   ],
   "source": [
    "for param_name, param in cache.items():\n",
    "    print(param_name, param.shape)\n"
   ]
  },
  {
   "cell_type": "code",
   "execution_count": null,
   "metadata": {},
   "outputs": [
    {
     "data": {
      "text/plain": [
       "ActivationCache with keys ['hook_embed', 'hook_pos_embed', 'blocks.0.hook_resid_pre', 'blocks.0.attn.hook_q', 'blocks.0.attn.hook_k', 'blocks.0.attn.hook_v', 'blocks.0.attn.hook_attn_scores', 'blocks.0.attn.hook_pattern', 'blocks.0.attn.hook_z', 'blocks.0.hook_attn_out', 'blocks.0.hook_resid_mid', 'blocks.0.mlp.hook_pre', 'blocks.0.mlp.hook_post', 'blocks.0.hook_mlp_out', 'blocks.0.hook_resid_post', 'blocks.1.hook_resid_pre', 'blocks.1.attn.hook_q', 'blocks.1.attn.hook_k', 'blocks.1.attn.hook_v', 'blocks.1.attn.hook_attn_scores', 'blocks.1.attn.hook_pattern', 'blocks.1.attn.hook_z', 'blocks.1.hook_attn_out', 'blocks.1.hook_resid_mid', 'blocks.1.mlp.hook_pre', 'blocks.1.mlp.hook_post', 'blocks.1.hook_mlp_out', 'blocks.1.hook_resid_post', 'blocks.2.hook_resid_pre', 'blocks.2.attn.hook_q', 'blocks.2.attn.hook_k', 'blocks.2.attn.hook_v', 'blocks.2.attn.hook_attn_scores', 'blocks.2.attn.hook_pattern', 'blocks.2.attn.hook_z', 'blocks.2.hook_attn_out', 'blocks.2.hook_resid_mid', 'blocks.2.mlp.hook_pre', 'blocks.2.mlp.hook_post', 'blocks.2.hook_mlp_out', 'blocks.2.hook_resid_post']"
      ]
     },
     "execution_count": 102,
     "metadata": {},
     "output_type": "execute_result"
    }
   ],
   "source": [
    "cache"
   ]
  },
  {
   "cell_type": "code",
   "execution_count": null,
   "metadata": {},
   "outputs": [],
   "source": [
    "pattern_a = cache[\"pattern\", 0, \"attn\"][:, :, -1, 0]\n",
    "pattern_b = cache[\"pattern\", 0, \"attn\"][:, :, -1, 1]\n",
    "neuron_acts = cache[\"post\", 0, \"mlp\"][:, -1, :]\n",
    "neuron_pre_acts = cache[\"pre\", 0, \"mlp\"][:, -1, :]\n",
    "\n"
   ]
  },
  {
   "cell_type": "code",
   "execution_count": null,
   "metadata": {},
   "outputs": [
    {
     "data": {
      "text/plain": [
       "(torch.Size([78125, 1]),\n",
       " torch.Size([78125, 1]),\n",
       " torch.Size([78125, 35]),\n",
       " torch.Size([78125, 35]))"
      ]
     },
     "execution_count": 104,
     "metadata": {},
     "output_type": "execute_result"
    }
   ],
   "source": [
    "pattern_a.shape, pattern_b.shape, neuron_acts.shape, neuron_pre_acts.shape\n"
   ]
  },
  {
   "cell_type": "code",
   "execution_count": null,
   "metadata": {},
   "outputs": [],
   "source": [
    "p = cache[\"pattern\", 0].mean(dim=0)[0]"
   ]
  },
  {
   "cell_type": "code",
   "execution_count": null,
   "metadata": {},
   "outputs": [
    {
     "data": {
      "image/png": "[encoded data removed]",
      "text/plain": [
       "<Figure size 640x480 with 1 Axes>"
      ]
     },
     "metadata": {},
     "output_type": "display_data"
    }
   ],
   "source": [
    "\n",
    "\n",
    "imshow(p, xaxis=\"neurons\", yaxis=\"input\")"
   ]
  },
  {
   "cell_type": "code",
   "execution_count": null,
   "metadata": {},
   "outputs": [
    {
     "data": {
      "text/plain": [
       "torch.Size([78125, 7, 35])"
      ]
     },
     "execution_count": 107,
     "metadata": {},
     "output_type": "execute_result"
    }
   ],
   "source": [
    "cache[\"post\", 0, \"mlp\"].shape"
   ]
  },
  {
   "cell_type": "code",
   "execution_count": null,
   "metadata": {},
   "outputs": [
    {
     "data": {
      "text/plain": [
       "tensor([1, 1, 3, 3, 0, 2, 0])"
      ]
     },
     "execution_count": 108,
     "metadata": {},
     "output_type": "execute_result"
    }
   ],
   "source": [
    "sequences[21010]"
   ]
  },
  {
   "cell_type": "code",
   "execution_count": null,
   "metadata": {},
   "outputs": [
    {
     "data": {
      "text/plain": [
       "ActivationCache with keys ['hook_embed', 'hook_pos_embed', 'blocks.0.hook_resid_pre', 'blocks.0.attn.hook_q', 'blocks.0.attn.hook_k', 'blocks.0.attn.hook_v', 'blocks.0.attn.hook_attn_scores', 'blocks.0.attn.hook_pattern', 'blocks.0.attn.hook_z', 'blocks.0.hook_attn_out', 'blocks.0.hook_resid_mid', 'blocks.0.mlp.hook_pre', 'blocks.0.mlp.hook_post', 'blocks.0.hook_mlp_out', 'blocks.0.hook_resid_post', 'blocks.1.hook_resid_pre', 'blocks.1.attn.hook_q', 'blocks.1.attn.hook_k', 'blocks.1.attn.hook_v', 'blocks.1.attn.hook_attn_scores', 'blocks.1.attn.hook_pattern', 'blocks.1.attn.hook_z', 'blocks.1.hook_attn_out', 'blocks.1.hook_resid_mid', 'blocks.1.mlp.hook_pre', 'blocks.1.mlp.hook_post', 'blocks.1.hook_mlp_out', 'blocks.1.hook_resid_post', 'blocks.2.hook_resid_pre', 'blocks.2.attn.hook_q', 'blocks.2.attn.hook_k', 'blocks.2.attn.hook_v', 'blocks.2.attn.hook_attn_scores', 'blocks.2.attn.hook_pattern', 'blocks.2.attn.hook_z', 'blocks.2.hook_attn_out', 'blocks.2.hook_resid_mid', 'blocks.2.mlp.hook_pre', 'blocks.2.mlp.hook_post', 'blocks.2.hook_mlp_out', 'blocks.2.hook_resid_post']"
      ]
     },
     "execution_count": 109,
     "metadata": {},
     "output_type": "execute_result"
    }
   ],
   "source": [
    "cache"
   ]
  },
  {
   "cell_type": "code",
   "execution_count": null,
   "metadata": {},
   "outputs": [
    {
     "name": "stdout",
     "output_type": "stream",
     "text": [
      "tensor([0, 1, 2, 3, 4, 4, 3])\n"
     ]
    },
    {
     "data": {
      "image/png": "[encoded data removed]",
      "text/plain": [
       "<Figure size 640x480 with 1 Axes>"
      ]
     },
     "metadata": {},
     "output_type": "display_data"
    },
    {
     "data": {
      "image/png": "[encoded data removed]",
      "text/plain": [
       "<Figure size 640x480 with 1 Axes>"
      ]
     },
     "metadata": {},
     "output_type": "display_data"
    },
    {
     "data": {
      "image/png": "[encoded data removed]",
      "text/plain": [
       "<Figure size 640x480 with 1 Axes>"
      ]
     },
     "metadata": {},
     "output_type": "display_data"
    },
    {
     "data": {
      "image/png": "[encoded data removed]",
      "text/plain": [
       "<Figure size 640x480 with 1 Axes>"
      ]
     },
     "metadata": {},
     "output_type": "display_data"
    }
   ],
   "source": [
    "i = 4873\n",
    "print(sequences[i])\n",
    "imshow(cache[\"hook_embed\"][i])\n",
    "imshow(cache[\"hook_pos_embed\"][i])\n",
    "# imshow(cache[\"hook_embed\"][i] + cache[\"hook_pos_embed\"][i])\n",
    "imshow(cache[\"blocks.0.hook_resid_pre\"][i]) # = embed + pos_embed\n",
    "imshow(cache[\"blocks.0.hook_attn_out\"][i])"
   ]
  },
  {
   "cell_type": "code",
   "execution_count": null,
   "metadata": {},
   "outputs": [
    {
     "data": {
      "application/vnd.jupyter.widget-view+json": {
       "model_id": "fae2404ddadf45788699e7e552a3f04d",
       "version_major": 2,
       "version_minor": 0
      },
      "text/plain": [
       "IntSlider(value=4873, description='i:', max=78124)"
      ]
     },
     "metadata": {},
     "output_type": "display_data"
    }
   ],
   "source": [
    "import ipywidgets as widgets\n",
    "import matplotlib.pyplot as plt\n",
    "\n",
    "print(len(sequences))\n",
    "print(cache[\"hook_embed\"].shape)\n",
    "print(cache[\"hook_pos_embed\"].shape)\n",
    "print(cache[\"blocks.0.hook_resid_pre\"].shape)\n",
    "print(cache[\"blocks.0.hook_attn_out\"].shape)\n",
    "# Create a slider to control the value of i\n",
    "slider = widgets.IntSlider(min=0, max=len(sequences)-1, value=4873, description='i:')\n",
    "display(slider)\n",
    "\n",
    "# Function to update the outputs based on the value of i\n",
    "def update_outputs(i):\n",
    "    print(sequences[i])\n",
    "    plt.figure(figsize=(10, 10))\n",
    "    \n",
    "    plt.subplot(2, 2, 1)\n",
    "    plt.imshow(cache[\"hook_embed\"][i])\n",
    "    plt.title(\"hook_embed\")\n",
    "    \n",
    "    plt.subplot(2, 2, 2)\n",
    "    plt.imshow(cache[\"hook_pos_embed\"][i])\n",
    "    plt.title(\"hook_pos_embed\")\n",
    "    \n",
    "    plt.subplot(2, 2, 3)\n",
    "    plt.imshow(cache[\"blocks.0.hook_resid_pre\"][i])\n",
    "    plt.title(\"blocks.0.hook_resid_pre\")\n",
    "    \n",
    "    plt.subplot(2, 2, 4)\n",
    "    plt.imshow(cache[\"blocks.0.hook_attn_out\"][i])\n",
    "    plt.title(\"blocks.0.hook_attn_out\")\n",
    "    \n",
    "    plt.tight_layout()\n",
    "    plt.show()\n",
    "\n",
    "# Connect the slider to the update_outputs function\n",
    "slider.observe(lambda change: update_outputs(change.new), names='value')"
   ]
  },
  {
   "cell_type": "code",
   "execution_count": null,
   "metadata": {},
   "outputs": [
    {
     "data": {
      "text/plain": [
       "tensor([0, 0, 0, 0, 0, 0, 0])"
      ]
     },
     "execution_count": 111,
     "metadata": {},
     "output_type": "execute_result"
    }
   ],
   "source": [
    "i = 0\n",
    "sequences[i]"
   ]
  },
  {
   "cell_type": "code",
   "execution_count": null,
   "metadata": {},
   "outputs": [
    {
     "data": {
      "image/png": "[encoded data removed]",
      "text/plain": [
       "<Figure size 640x480 with 1 Axes>"
      ]
     },
     "metadata": {},
     "output_type": "display_data"
    },
    {
     "data": {
      "image/png": "[encoded data removed]",
      "text/plain": [
       "<Figure size 640x480 with 1 Axes>"
      ]
     },
     "metadata": {},
     "output_type": "display_data"
    },
    {
     "data": {
      "image/png": "[encoded data removed]",
      "text/plain": [
       "<Figure size 640x480 with 1 Axes>"
      ]
     },
     "metadata": {},
     "output_type": "display_data"
    },
    {
     "data": {
      "image/png": "[encoded data removed]",
      "text/plain": [
       "<Figure size 640x480 with 1 Axes>"
      ]
     },
     "metadata": {},
     "output_type": "display_data"
    },
    {
     "data": {
      "image/png": "[encoded data removed]",
      "text/plain": [
       "<Figure size 640x480 with 1 Axes>"
      ]
     },
     "metadata": {},
     "output_type": "display_data"
    },
    {
     "data": {
      "image/png": "[encoded data removed]",
      "text/plain": [
       "<Figure size 640x480 with 1 Axes>"
      ]
     },
     "metadata": {},
     "output_type": "display_data"
    }
   ],
   "source": [
    "imshow(cache[\"pre\", 0, \"attn\"][i])\n",
    "\n",
    "imshow(cache[\"pre\", 0, \"mlp\"][i])\n",
    "\n",
    "imshow(cache[\"pre\", 1, \"attn\"][i])\n",
    "\n",
    "imshow(cache[\"pre\", 1, \"mlp\"][i])\n",
    "imshow(cache[\"pre\", 2, \"attn\"][i])\n",
    "\n",
    "imshow(cache[\"pre\", 2, \"mlp\"][i])"
   ]
  },
  {
   "cell_type": "code",
   "execution_count": null,
   "metadata": {},
   "outputs": [
    {
     "data": {
      "image/png": "[encoded data removed]",
      "text/plain": [
       "<Figure size 640x480 with 1 Axes>"
      ]
     },
     "metadata": {},
     "output_type": "display_data"
    }
   ],
   "source": [
    "imshow(original_logits[i])"
   ]
  },
  {
   "cell_type": "code",
   "execution_count": null,
   "metadata": {},
   "outputs": [
    {
     "data": {
      "text/plain": [
       "torch.Size([7, 5])"
      ]
     },
     "execution_count": 114,
     "metadata": {},
     "output_type": "execute_result"
    }
   ],
   "source": [
    "\n",
    "original_logits[i].shape"
   ]
  },
  {
   "cell_type": "code",
   "execution_count": null,
   "metadata": {},
   "outputs": [
    {
     "data": {
      "text/plain": [
       "torch.Size([78125, 7])"
      ]
     },
     "execution_count": 115,
     "metadata": {},
     "output_type": "execute_result"
    }
   ],
   "source": [
    "sequences.shape"
   ]
  },
  {
   "cell_type": "code",
   "execution_count": null,
   "metadata": {},
   "outputs": [],
   "source": []
  }
 ],
 "metadata": {
  "kernelspec": {
   "display_name": "sortinterp",
   "language": "python",
   "name": "python3"
  },
  "language_info": {
   "codemirror_mode": {
    "name": "ipython",
    "version": 3
   },
   "file_extension": ".py",
   "mimetype": "text/x-python",
   "name": "python",
   "nbconvert_exporter": "python",
   "pygments_lexer": "ipython3",
   "version": "3.12.2"
  }
 },
 "nbformat": 4,
 "nbformat_minor": 2
}
