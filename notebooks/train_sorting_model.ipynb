{
 "cells": [
  {
   "cell_type": "code",
   "execution_count": 27,
   "metadata": {},
   "outputs": [],
   "source": [
    "import jax\n",
    "jax.config.update('jax_default_matmul_precision', 'float32')\n",
    "from tracr.compiler import compiling\n",
    "from tracr.compiler import lib\n",
    "from tracr.rasp import rasp\n",
    "from transformer_lens import HookedTransformerConfig, HookedTransformer\n",
    "\n",
    "from utils import cfg_from_tracr, load_tracr_weights\n",
    "\n",
    "\n",
    "\n",
    "\n",
    "\n",
    "input_size = 7 # Length of sequences\n",
    "vocab_size = 5  # Vocabulary size\n",
    "\n",
    "\n",
    "vocab = {*range(vocab_size)}\n",
    "program = lib.make_sort(rasp.tokens, rasp.tokens, max_seq_len=input_size, min_key=0)\n",
    "\n",
    "tracr_model = compiling.compile_rasp_to_model(\n",
    "    program=program,\n",
    "    vocab=vocab,\n",
    "    max_seq_len=input_size,\n",
    "    compiler_bos=\"bos\",\n",
    "    mlp_exactness=100)\n",
    "\n",
    "cfg = cfg_from_tracr(tracr_model)\n",
    "model = HookedTransformer(cfg)\n",
    "# model = load_tracr_weights(model, tracr_model, cfg)"
   ]
  },
  {
   "cell_type": "code",
   "execution_count": 32,
   "metadata": {},
   "outputs": [
    {
     "name": "stdout",
     "output_type": "stream",
     "text": [
      "Generated 78125 sequences of length 7 with vocabulary size 5\n",
      "Train size: 54687\n",
      "Test size: 23438\n"
     ]
    }
   ],
   "source": [
    "import torch as tc\n",
    "import itertools\n",
    "def get_all_sequences(max_seq_len, vocab_size):\n",
    "    # Generate all possible sequences of length n with vocabulary size m\n",
    "    sequences = itertools.product(range(vocab_size), repeat=max_seq_len)\n",
    "    sequences = [tc.tensor(seq) for seq in sequences]\n",
    "    return sequences\n",
    "sequences = get_all_sequences(input_size, vocab_size)\n",
    "print(f\"Generated {len(sequences)} sequences of length {input_size} with vocabulary size {vocab_size}\")\n",
    "\n",
    "train_test_split = 0.7\n",
    "train_size = int(len(sequences) * train_test_split)\n",
    "train_sequences = sequences[:train_size]\n",
    "test_sequences = sequences[train_size:]\n",
    "print(f\"Train size: {len(train_sequences)}\")\n",
    "print(f\"Test size: {len(test_sequences)}\")"
   ]
  },
  {
   "cell_type": "code",
   "execution_count": 51,
   "metadata": {},
   "outputs": [],
   "source": [
    "import torch as tc\n",
    "\n",
    "def loss_function(outputs, targets):\n",
    "    return tc.nn.functional.cross_entropy(outputs, targets, reduce=True, reduction='mean')\n",
    "\n",
    "def accuracy_function(outputs, targets):\n",
    "    return (outputs.argmax(1) == targets).float().mean()"
   ]
  },
  {
   "cell_type": "code",
   "execution_count": 40,
   "metadata": {},
   "outputs": [
    {
     "name": "stdout",
     "output_type": "stream",
     "text": [
      "torch.Size([16, 7])\n",
      "torch.Size([16, 7])\n"
     ]
    }
   ],
   "source": [
    "train_loader = tc.utils.data.DataLoader(train_sequences, batch_size=16, shuffle=True)\n",
    "inputs = next(iter(train_loader))\n",
    "targets = tc.sort(inputs, dim=1).values\n",
    "print(inputs.shape)\n",
    "print(targets.shape)"
   ]
  },
  {
   "cell_type": "code",
   "execution_count": 52,
   "metadata": {},
   "outputs": [
    {
     "name": "stdout",
     "output_type": "stream",
     "text": [
      "Moving model to device:  cpu\n",
      "torch.Size([16, 7, 5])\n",
      "Initial accuracy: 0.1607142835855484\n",
      "Initial loss: 1.637537956237793\n"
     ]
    },
    {
     "name": "stderr",
     "output_type": "stream",
     "text": [
      "/Users/leonardbereska/miniconda3/envs/sortinterp/lib/python3.12/site-packages/torch/nn/_reduction.py:42: UserWarning: size_average and reduce args will be deprecated, please use reduction='mean' instead.\n",
      "  warnings.warn(warning.format(ret))\n"
     ]
    }
   ],
   "source": [
    "model.to('cpu')\n",
    "inputs = next(iter(train_loader))\n",
    "outputs, cache = model.run_with_cache(inputs)\n",
    "print(outputs.shape)\n",
    "# output shape is (batch_size, vocab_size, input_size) but we need (batch_size, input_size, vocab_size)\n",
    "outputs = outputs.permute(0, 2, 1)\n",
    "accuracy = accuracy_function(outputs, targets) \n",
    "loss = loss_function(outputs, targets)\n",
    "print(f\"Initial accuracy: {accuracy.item()}\")\n",
    "print(f\"Initial loss: {loss.item()}\")"
   ]
  },
  {
   "cell_type": "code",
   "execution_count": 53,
   "metadata": {},
   "outputs": [
    {
     "name": "stdout",
     "output_type": "stream",
     "text": [
      "Moving model to device:  cpu\n"
     ]
    },
    {
     "name": "stderr",
     "output_type": "stream",
     "text": [
      "  0%|          | 0/214 [00:00<?, ?it/s]/Users/leonardbereska/miniconda3/envs/sortinterp/lib/python3.12/site-packages/torch/nn/_reduction.py:42: UserWarning: size_average and reduce args will be deprecated, please use reduction='mean' instead.\n",
      "  warnings.warn(warning.format(ret))\n",
      "  1%|▏         | 3/214 [00:00<00:07, 26.92it/s]"
     ]
    },
    {
     "name": "stdout",
     "output_type": "stream",
     "text": [
      "batch 0, loss: 1.6612650156021118 accuracy: 0.1467633992433548\n"
     ]
    },
    {
     "name": "stderr",
     "output_type": "stream",
     "text": [
      " 50%|████▉     | 106/214 [00:03<00:03, 29.15it/s]"
     ]
    },
    {
     "name": "stdout",
     "output_type": "stream",
     "text": [
      "batch 100, loss: 0.1305752545595169 accuracy: 0.9631696343421936\n"
     ]
    },
    {
     "name": "stderr",
     "output_type": "stream",
     "text": [
      " 96%|█████████▌| 205/214 [00:07<00:00, 29.52it/s]"
     ]
    },
    {
     "name": "stdout",
     "output_type": "stream",
     "text": [
      "batch 200, loss: 0.0043729376047849655 accuracy: 1.0\n"
     ]
    },
    {
     "name": "stderr",
     "output_type": "stream",
     "text": [
      "100%|██████████| 214/214 [00:07<00:00, 28.21it/s]\n"
     ]
    }
   ],
   "source": [
    "from tqdm import tqdm\n",
    "\n",
    "train_loader = tc.utils.data.DataLoader(train_sequences, batch_size=256, shuffle=True)\n",
    "\n",
    "model.to('cpu')\n",
    "model.train()\n",
    "optimizer = tc.optim.Adam(model.parameters(), lr=0.001)\n",
    "\n",
    "for i, inputs in enumerate(tqdm(train_loader)):\n",
    "    targets = tc.sort(inputs, dim=1).values\n",
    "    optimizer.zero_grad()\n",
    "    outputs, cache = model.run_with_cache(inputs)\n",
    "    outputs = outputs.permute(0, 2, 1)\n",
    "    loss = loss_function(outputs, targets)\n",
    "    loss.backward()\n",
    "    optimizer.step()\n",
    "    if i % 100 == 0:\n",
    "        accuracy = accuracy_function(outputs, targets) \n",
    "        print(f'batch {i}, loss: {loss.item()}', f'accuracy: {accuracy.item()}')\n",
    "\n",
    "# TODO add testset evaluation"
   ]
  },
  {
   "cell_type": "code",
   "execution_count": 25,
   "metadata": {},
   "outputs": [
    {
     "name": "stdout",
     "output_type": "stream",
     "text": [
      "78125\n"
     ]
    }
   ],
   "source": []
  },
  {
   "cell_type": "code",
   "execution_count": 55,
   "metadata": {},
   "outputs": [
    {
     "name": "stderr",
     "output_type": "stream",
     "text": [
      "  0%|          | 0/92 [00:00<?, ?it/s]/Users/leonardbereska/miniconda3/envs/sortinterp/lib/python3.12/site-packages/torch/nn/_reduction.py:42: UserWarning: size_average and reduce args will be deprecated, please use reduction='mean' instead.\n",
      "  warnings.warn(warning.format(ret))\n",
      "100%|██████████| 92/92 [00:01<00:00, 53.17it/s]"
     ]
    },
    {
     "name": "stdout",
     "output_type": "stream",
     "text": [
      "Test loss: 0.04582557454705238\n",
      "Test accuracy: 0.98520827293396\n"
     ]
    },
    {
     "name": "stderr",
     "output_type": "stream",
     "text": [
      "\n"
     ]
    }
   ],
   "source": [
    "# test set\n",
    "test_loader = tc.utils.data.DataLoader(test_sequences, batch_size=256, shuffle=True)\n",
    "model.eval()\n",
    "losses = []\n",
    "accuracies = []\n",
    "for i, inputs in enumerate(tqdm(test_loader)):\n",
    "    targets = tc.sort(inputs, dim=1).values\n",
    "    outputs, cache = model.run_with_cache(inputs)\n",
    "    outputs = outputs.permute(0, 2, 1)\n",
    "    loss = loss_function(outputs, targets)\n",
    "    accuracy = accuracy_function(outputs, targets)\n",
    "    losses.append(loss.item())\n",
    "    accuracies.append(accuracy.item())\n",
    "loss = tc.tensor(losses).mean()\n",
    "accuracy = tc.tensor(accuracies).mean()\n",
    "print(f\"test loss: {loss.item()}\")\n",
    "print(f\"test accuracy: {accuracy.item()}\")\n"
   ]
  },
  {
   "cell_type": "markdown",
   "metadata": {},
   "source": [
    "-> model performs well on train and test"
   ]
  },
  {
   "cell_type": "code",
   "execution_count": 68,
   "metadata": {},
   "outputs": [],
   "source": [
    "# save model with timestamp\n",
    "import datetime\n",
    "timestamp = datetime.datetime.now().strftime(\"%Y%m%d%H%M%S\")\n",
    "tc.save(model.state_dict(), f'saved_models/{timestamp}.pt')\n",
    "# save config\n",
    "import pickle\n",
    "with open(f'saved_models/{timestamp}.cfg', 'wb') as f:\n",
    "    pickle.dump(cfg, f)"
   ]
  },
  {
   "cell_type": "code",
   "execution_count": 69,
   "metadata": {},
   "outputs": [
    {
     "data": {
      "text/plain": [
       "<All keys matched successfully>"
      ]
     },
     "execution_count": 69,
     "metadata": {},
     "output_type": "execute_result"
    }
   ],
   "source": [
    "# load config\n",
    "import pickle\n",
    "with open(f'saved_models/{timestamp}.cfg', 'rb') as f:\n",
    "    cfg = pickle.load(f)\n",
    "# load model\n",
    "model = HookedTransformer(cfg)\n",
    "model.load_state_dict(tc.load(f'saved_models/{timestamp}.pt'))"
   ]
  }
 ],
 "metadata": {
  "kernelspec": {
   "display_name": "sortinterp",
   "language": "python",
   "name": "python3"
  },
  "language_info": {
   "codemirror_mode": {
    "name": "ipython",
    "version": 3
   },
   "file_extension": ".py",
   "mimetype": "text/x-python",
   "name": "python",
   "nbconvert_exporter": "python",
   "pygments_lexer": "ipython3",
   "version": "3.12.2"
  }
 },
 "nbformat": 4,
 "nbformat_minor": 2
}
