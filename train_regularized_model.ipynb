{
 "cells": [
  {
   "cell_type": "code",
   "execution_count": null,
   "metadata": {},
   "outputs": [],
   "source": [
    "import torch as tc\n",
    "from tqdm import tqdm\n",
    "\n",
    "from data import train_loader\n",
    "\n",
    "# Initialize model configurations\n",
    "trained_model = load_model()\n",
    "\n",
    "import torch as tc\n",
    "\n",
    "def loss_function(inputs, outputs):\n",
    "    return tc.nn.functional.cross_entropy(inputs, outputs, reduce=True, reduction='mean')\n",
    "\n",
    "# def l1_regularization():\n",
    "    # return tc.nn.L1Loss()\n",
    "\n",
    "criterion = loss_function\n",
    "# decay_values = [0, 0.0001, 0.001]\n",
    "learning_rate = 0.001\n",
    "epochs = 300\n",
    "batch_size = 256\n",
    "\n",
    "losses_list = []\n",
    "accuracies_list = []\n",
    "metrics_list = []\n",
    "\n",
    "optimizer = tc.optim.AdamW(model.parameters(), lr=learning_rate)\n",
    "losses = []\n",
    "accuracy = []\n",
    "\n",
    "train_loader = train_loader(batch_size, vocab_size, input_size, batch_size)\n",
    "inputs, targets = next(train_loader)\n",
    "print(inputs.shape, targets.shape)\n",
    "print(inputs[0])\n",
    "print(targets[0])\n",
    "outputs, cache = model.run_with_cache(inputs)\n",
    "print(outputs.shape)\n",
    "print(outputs[0][7])\n",
    "# for epoch in tqdm(range(epochs)):\n",
    "    # for input_seq, target_seq in train_loader(batch_size, vocab_size, input_size, batch_size):\n",
    "        # optimizer.zero_grad()\n",
    "        # output, cache = model.run_with_cache(input_seq)\n",
    "        # loss = criterion(output.view(-1, output.shape[-1]), target_seq.view(-1))\n",
    "        # loss += pentaly[1](cache)\n",
    "        # loss.backward()\n",
    "        # optimizer.step()\n",
    "        # losses.append(loss.item())"
   ]
  }
 ],
 "metadata": {
  "language_info": {
   "name": "python"
  }
 },
 "nbformat": 4,
 "nbformat_minor": 2
}
